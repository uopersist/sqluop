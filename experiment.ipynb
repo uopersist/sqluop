{
 "cells": [
  {
   "cell_type": "code",
   "execution_count": 1,
   "id": "d7fceedf-0e1e-4ec6-863f-a5586fe904eb",
   "metadata": {},
   "outputs": [
    {
     "name": "stdout",
     "output_type": "stream",
     "text": [
      "returning JSON sql column type for <class 'dict'>\n",
      "returning JSON sql column type for <class 'dict'>\n"
     ]
    }
   ],
   "source": [
    "from sqluop import adaptor\n",
    "from sqluop.adaptor import Base, create_engine, table_from_pydantic, Table, Index, AlchemyDatabase\n",
    "from uopmeta.schemas import meta\n",
    "metadata = Base.metadata\n",
    "db = AlchemyDatabase('foobar2')\n"
   ]
  },
  {
   "cell_type": "code",
   "execution_count": 2,
   "id": "9f648734-a042-4923-878c-1e71886e3f45",
   "metadata": {},
   "outputs": [
    {
     "data": {
      "text/plain": [
       "<contextlib._GeneratorContextManager at 0x7f03f03f9150>"
      ]
     },
     "execution_count": 2,
     "metadata": {},
     "output_type": "execute_result"
    }
   ],
   "source": [
    "begun = db._engine.begin()\n",
    "begun"
   ]
  },
  {
   "cell_type": "code",
   "execution_count": 13,
   "id": "1b8e5a84-4cf4-4507-ae73-5990b3c83dfb",
   "metadata": {},
   "outputs": [
    {
     "name": "stdout",
     "output_type": "stream",
     "text": [
      "139654496958064 139654496958064\n"
     ]
    }
   ],
   "source": [
    "with db._engine.connect() as c:\n",
    "    begun2 = c.begin()\n",
    "    print(id(c), id(begun2.connection))\n",
    "\n",
    "\n"
   ]
  },
  {
   "cell_type": "code",
   "execution_count": 10,
   "id": "e260a885-bfaf-4144-977f-43196e0e78e6",
   "metadata": {},
   "outputs": [
    {
     "ename": "NameError",
     "evalue": "name 'select' is not defined",
     "output_type": "error",
     "traceback": [
      "\u001b[0;31m---------------------------------------------------------------------------\u001b[0m",
      "\u001b[0;31mNameError\u001b[0m                                 Traceback (most recent call last)",
      "Cell \u001b[0;32mIn[10], line 1\u001b[0m\n\u001b[0;32m----> 1\u001b[0m begun2\u001b[38;5;241m.\u001b[39mconnection\u001b[38;5;241m.\u001b[39mexecute(\u001b[43mselect\u001b[49m(\u001b[38;5;241m2\u001b[39m))\n",
      "\u001b[0;31mNameError\u001b[0m: name 'select' is not defined"
     ]
    }
   ],
   "source": [
    "\n",
    "begun2.connection.execute(select(2))"
   ]
  },
  {
   "cell_type": "code",
   "execution_count": null,
   "id": "c44d8d2c-18ce-49dc-8d31-98e9715e53db",
   "metadata": {},
   "outputs": [],
   "source": [
    "collections = []\n",
    "for kind in meta.kind_map:\n",
    "    coll = db.get_standard_collection(kind)\n",
    "    collections.append(coll)"
   ]
  },
  {
   "cell_type": "markdown",
   "id": "752c21ba-3f53-4380-87dd-f5ad7282fbdd",
   "metadata": {},
   "source": [
    "create_engine(\"sqlite://foobar\")"
   ]
  },
  {
   "cell_type": "code",
   "execution_count": null,
   "id": "6a320d90-ec59-4fe0-81b4-31fa3a16f777",
   "metadata": {},
   "outputs": [],
   "source": [
    "engine = create_engine(\"sqlite:///foobar\")"
   ]
  },
  {
   "cell_type": "code",
   "execution_count": null,
   "id": "da085ad4-9dab-4256-b76e-7ee029ba1f12",
   "metadata": {},
   "outputs": [],
   "source": [
    "Base.metadata.create_all(engine)"
   ]
  },
  {
   "cell_type": "code",
   "execution_count": null,
   "id": "ffefd8a6-ba99-415c-8232-2cad7241124c",
   "metadata": {},
   "outputs": [],
   "source": [
    "Base.metadata.reflect(engine)"
   ]
  },
  {
   "cell_type": "code",
   "execution_count": null,
   "id": "ca7d5275-040e-43e3-9577-c551ec41779e",
   "metadata": {},
   "outputs": [],
   "source": [
    "table = table_from_pydantic(meta.MetaClass, metadata, 'uop_metaclass')"
   ]
  },
  {
   "cell_type": "code",
   "execution_count": null,
   "id": "595efcae-2ad0-42b8-a186-204ef1721cae",
   "metadata": {},
   "outputs": [],
   "source": [
    "tagged = table_from_pydantic(meta.Tagged, metadata, 'uop_tagged')"
   ]
  },
  {
   "cell_type": "code",
   "execution_count": null,
   "id": "66444e39-ff27-4eea-bb58-d7f21f748373",
   "metadata": {},
   "outputs": [],
   "source": [
    "table.primary_key"
   ]
  },
  {
   "cell_type": "code",
   "execution_count": null,
   "id": "9a3793e5-6fcd-4f19-ac87-665f6abafe16",
   "metadata": {},
   "outputs": [],
   "source": [
    "AlchemyDatabase?"
   ]
  },
  {
   "cell_type": "code",
   "execution_count": null,
   "id": "6a614d92-189f-4e85-b0af-bc04054229f6",
   "metadata": {},
   "outputs": [],
   "source": [
    "AlchemyDatabase('foobar')"
   ]
  },
  {
   "cell_type": "code",
   "execution_count": null,
   "id": "219de4b8-add4-4871-9948-9efc37b59ad6",
   "metadata": {},
   "outputs": [],
   "source": []
  }
 ],
 "metadata": {
  "kernelspec": {
   "display_name": "Python 3 (ipykernel)",
   "language": "python",
   "name": "python3"
  },
  "language_info": {
   "codemirror_mode": {
    "name": "ipython",
    "version": 3
   },
   "file_extension": ".py",
   "mimetype": "text/x-python",
   "name": "python",
   "nbconvert_exporter": "python",
   "pygments_lexer": "ipython3",
   "version": "3.10.12"
  }
 },
 "nbformat": 4,
 "nbformat_minor": 5
}
